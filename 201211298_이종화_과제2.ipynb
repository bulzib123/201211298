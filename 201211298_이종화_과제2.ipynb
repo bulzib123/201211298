{
 "cells": [
  {
   "cell_type": "code",
   "execution_count": 1,
   "metadata": {
    "collapsed": true
   },
   "outputs": [],
   "source": [
    "import requests\n",
    "r = requests.get('http://www.kbreport.com/main')\n",
    "\n",
    "import lxml.etree\n",
    "_htmlTree = lxml.etree.HTML(r.text)"
   ]
  },
  {
   "cell_type": "code",
   "execution_count": 15,
   "metadata": {
    "collapsed": false
   },
   "outputs": [
    {
     "name": "stdout",
     "output_type": "stream",
     "text": [
      "테이블 행 갯수:  11\n",
      "WAR: 타자\n",
      "1 나지완 0.69\n",
      "2 김원석 0.60\n",
      "3 이대호 0.40\n",
      "4 오지환 0.39\n",
      "5 최형우 0.35\n",
      "6 송광민 0.34\n",
      "7 손시헌 0.34\n",
      "8 에반스 0.33\n",
      "9 강민호 0.31\n",
      "10 전준우 0.28\n",
      "------\n",
      "테이블 행 갯수:  11\n",
      "WAR: 투수\n",
      "1 우규민 0.37\n",
      "2 차우찬 0.33\n",
      "3 비야누에바 0.31\n",
      "4 로치 0.28\n",
      "5 류제국 0.28\n",
      "6 맨쉽 0.27\n",
      "7 니퍼트 0.23\n",
      "8 켈리 0.22\n",
      "9 김원중 0.21\n",
      "10 양현종 0.21\n"
     ]
    }
   ],
   "source": [
    "nodes = _htmlTree.xpath(\"//div[@class='main-stats-box']//div[@class='ms-1']//tr\")\n",
    "print \"테이블 행 갯수: \", len(nodes)\n",
    "#container > div.main-content-box > div.cs-box > div.sidebar > div.main-stats-box > div.ms-1\n",
    "\n",
    "for teams in nodes:\n",
    "    for cols in teams:\n",
    "        if cols.xpath('.//a/text()'):\n",
    "            # a 태그 안에 들어가는 문자열 꺼냄 text()\n",
    "            print cols.xpath('.//a/text()')[0],\n",
    "        else:\n",
    "            print cols.text.strip(),\n",
    "    print\n",
    "    \n",
    "print \"------\"\n",
    "nodes2 = _htmlTree.xpath(\"//div[@class='main-stats-box']//div[@class='ms-2']//tr\")\n",
    "print \"테이블 행 갯수: \", len(nodes2)\n",
    "for teams in nodes2:\n",
    "    for cols in teams:\n",
    "        if cols.xpath('.//a/text()'):\n",
    "            print cols.xpath('.//a/text()')[0],\n",
    "        else:\n",
    "            print cols.text.strip(),\n",
    "    print"
   ]
  },
  {
   "cell_type": "code",
   "execution_count": 17,
   "metadata": {
    "collapsed": false
   },
   "outputs": [
    {
     "name": "stdout",
     "output_type": "stream",
     "text": [
      "Overwriting src/ds_web_crawl_kbaseball.py\n"
     ]
    }
   ],
   "source": [
    "%%writefile src/ds_web_crawl_kbaseball.py\n",
    "# coding: utf-8\n",
    "import requests\n",
    "import lxml.etree\n",
    "\n",
    "def getkb():\n",
    "    r = requests.get('http://www.kbreport.com/main')\n",
    "    _htmlTree = lxml.etree.HTML(r.text)\n",
    "    nodes = _htmlTree.xpath(\"//div[@class='main-stats-box']//div[@class='ms-1']//tr\")\n",
    "    print \"table cooooooools: \", len(nodes)\n",
    "    counter=0\n",
    "    for teams in nodes:\n",
    "        for cols in teams:\n",
    "            if cols.xpath('.//a/text()'):\n",
    "                print cols.xpath('.//a/text()')[0],\n",
    "            else:\n",
    "                print cols.text.strip(),\n",
    "        print\n",
    "        \n",
    "    print \"---\"\n",
    "    nodes2 = _htmlTree.xpath(\"//div[@class='main-stats-box']//div[@class='ms-2']//tr\")\n",
    "    print \"table cooooooools: \", len(nodes2)\n",
    "    counter=0\n",
    "    for teams in nodes2:\n",
    "        for cols in teams:\n",
    "            if cols.xpath('.//a/text()'):\n",
    "                print cols.xpath('.//a/text()')[0],\n",
    "            else:\n",
    "                print cols.text.strip(),\n",
    "        print\n",
    "\n",
    "def main():\n",
    "    getkb()\n",
    "\n",
    "if __name__ == \"__main__\":\n",
    "    main()\n"
   ]
  },
  {
   "cell_type": "code",
   "execution_count": 19,
   "metadata": {
    "collapsed": false
   },
   "outputs": [
    {
     "name": "stdout",
     "output_type": "stream",
     "text": [
      "table cooooooools:  11\n"
     ]
    },
    {
     "name": "stderr",
     "output_type": "stream",
     "text": [
      "Traceback (most recent call last):\n",
      "  File \"src/ds_web_crawl_kbaseball.py\", line 35, in <module>\n",
      "    main()\n",
      "  File \"src/ds_web_crawl_kbaseball.py\", line 32, in main\n",
      "    getkb()\n",
      "  File \"src/ds_web_crawl_kbaseball.py\", line 16, in getkb\n",
      "    print cols.text.strip(),\n",
      "UnicodeEncodeError: 'ascii' codec can't encode characters in position 5-6: ordinal not in range(128)\n"
     ]
    }
   ],
   "source": [
    "!python src/ds_web_crawl_kbaseball.py\n",
    "\n",
    "# cmd 창에서 정상적으로 동작함 ㅇㅇ."
   ]
  }
 ],
 "metadata": {
  "kernelspec": {
   "display_name": "Python 2",
   "language": "python",
   "name": "python2"
  },
  "language_info": {
   "codemirror_mode": {
    "name": "ipython",
    "version": 2
   },
   "file_extension": ".py",
   "mimetype": "text/x-python",
   "name": "python",
   "nbconvert_exporter": "python",
   "pygments_lexer": "ipython2",
   "version": "2.7.11"
  }
 },
 "nbformat": 4,
 "nbformat_minor": 0
}
