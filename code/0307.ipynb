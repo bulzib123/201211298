{
 "cells": [
  {
   "cell_type": "markdown",
   "metadata": {},
   "source": [
    "# hello\n",
    "* 하나\n",
    "* 둘"
   ]
  },
  {
   "cell_type": "code",
   "execution_count": 3,
   "metadata": {
    "collapsed": false
   },
   "outputs": [
    {
     "name": "stdout",
     "output_type": "stream",
     "text": [
      "4\n"
     ]
    }
   ],
   "source": [
    "print 3+1"
   ]
  },
  {
   "cell_type": "code",
   "execution_count": 1,
   "metadata": {
    "collapsed": false,
    "scrolled": true
   },
   "outputs": [
    {
     "name": "stdout",
     "output_type": "stream",
     "text": [
      "Heelo\n"
     ]
    }
   ],
   "source": [
    "print 'Heelo'"
   ]
  },
  {
   "cell_type": "code",
   "execution_count": 3,
   "metadata": {
    "collapsed": false
   },
   "outputs": [
    {
     "name": "stdout",
     "output_type": "stream",
     "text": [
      "키-키값 {'a': 1, 'd': 1, 'g': 2, 'j': 1, 'l': 3, '/': 1, '.': 1, 'p': 1, 'u': 1}\n",
      "저장된 문자의 갯수(중복 제외) 9\n",
      "키:  ['a', 'd', 'g', 'j', 'l', '/', '.', 'p', 'u']\n",
      "키값:  [1, 1, 2, 1, 3, 1, 1, 1, 1]\n"
     ]
    },
    {
     "data": {
      "image/png": "[encoded data removed]",
      "text/plain": [
       "<matplotlib.figure.Figure at 0x7c15898>"
      ]
     },
     "metadata": {},
     "output_type": "display_data"
    }
   ],
   "source": [
    "word = 'plug.dj/gall'\n",
    "d = dict()\n",
    "for c in word:\n",
    "    if c not in d:\n",
    "        d[c]=1\n",
    "    else:\n",
    "        d[c]=d[c]+1\n",
    "print \"키-키값\", d\n",
    "print \"저장된 문자의 갯수(중복 제외)\", len(d)\n",
    "print \"키: \", d.keys()\n",
    "print \"키값: \", d.values()\n",
    "%matplotlib inline\n",
    "\n",
    "import matplotlib\n",
    "import matplotlib.pyplot as plt \n",
    "# 2단계로 나누어 그림\n",
    "plt.bar(range(len(d)), d.values(), align='center')\n",
    "plt.xticks(range(len(d)), list(d.keys()))\n",
    "plt.show()"
   ]
  },
  {
   "cell_type": "code",
   "execution_count": 1,
   "metadata": {
    "collapsed": false
   },
   "outputs": [
    {
     "name": "stdout",
     "output_type": "stream",
     "text": [
      "Writing src/test.py\n"
     ]
    }
   ],
   "source": [
    "%%writefile src/test.py\n",
    "\n",
    "word = 'plug.dj/gall'\n",
    "d = dict()\n",
    "for c in word:\n",
    "    if c not in d:\n",
    "        d[c]=1\n",
    "    else:\n",
    "        d[c]=d[c]+1\n",
    "print \"키-키값\", d\n",
    "print \"저장된 문자의 갯수(중복 제외)\", len(d)\n",
    "print \"키: \", d.keys()\n",
    "print \"키값: \", d.values()"
   ]
  }
 ],
 "metadata": {
  "kernelspec": {
   "display_name": "Python 2",
   "language": "python",
   "name": "python2"
  },
  "language_info": {
   "codemirror_mode": {
    "name": "ipython",
    "version": 2
   },
   "file_extension": ".py",
   "mimetype": "text/x-python",
   "name": "python",
   "nbconvert_exporter": "python",
   "pygments_lexer": "ipython2",
   "version": "2.7.11"
  }
 },
 "nbformat": 4,
 "nbformat_minor": 0
}
