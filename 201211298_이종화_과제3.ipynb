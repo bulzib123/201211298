{
 "cells": [
  {
   "cell_type": "markdown",
   "metadata": {},
   "source": [
    "##### 네이버 뮤직 크롤링"
   ]
  },
  {
   "cell_type": "code",
   "execution_count": 10,
   "metadata": {
    "collapsed": true
   },
   "outputs": [],
   "source": [
    "import urllib\n",
    "keyword='바람부는'\n",
    "f = urllib.urlopen(\"http://music.naver.com/search/search.nhn?query=\"+keyword+\"&x=0&y=0\")\n",
    "mydata = f.read();"
   ]
  },
  {
   "cell_type": "code",
   "execution_count": 17,
   "metadata": {
    "collapsed": false
   },
   "outputs": [
    {
     "name": "stdout",
     "output_type": "stream",
     "text": [
      "-- 바람부는 날\n",
      "132377\n"
     ]
    }
   ],
   "source": [
    "pos = mydata.find(\"트랙 리스트\")\n",
    "if (pos>0):\n",
    "    pos = mydata.find(\"_title title NPI=\", pos);\n",
    "    pos = mydata.find(\"title=\",pos+20)\n",
    "    pos2 = mydata.find(\"\\\"\", pos+8)\n",
    "    print \"--\",mydata[pos+7:pos2]\n",
    "print len(mydata)"
   ]
  },
  {
   "cell_type": "code",
   "execution_count": 11,
   "metadata": {
    "collapsed": false
   },
   "outputs": [
    {
     "name": "stdout",
     "output_type": "stream",
     "text": [
      "title=\"검색어 입력\" value=\"바람부는\" maxlength=\"50\" accesskey=\"s\"\n",
      "title=\"바람부는날\" alt=\"바람부는날\"\n",
      "title=\"바람부는곳\" alt=\"바람부는곳\"\n",
      "title=\"바람부는 날\" ><span class=\"ellipsis\"\n",
      "title=\"바람부는 세상\" ><span class=\"ellipsis\"\n",
      "title=\"바람부는 세상／무정한 사람\" class=\"_album NPI=a:album,r:2,i:43784\"><span class=\"ellipsis\"\n",
      "title=\"꽃바람 부는 길 (윤희테마)\" ><span class=\"ellipsis\"\n",
      "title=\"바람 부는 하와이에서\" ><span class=\"ellipsis\"\n",
      "title=\"바람 부는 어느 날 (Ending Title)\" ><span class=\"ellipsis\"\n",
      "title=\"바람부는 이 거리\" ><span class=\"ellipsis\"\n",
      "title=\"바람부는 이 거리\" class=\"_album NPI=a:album,r:6,i:1643454\"><span class=\"ellipsis\"\n",
      "title=\"A Breezy Day (산들바람 부는 날)\" ><span class=\"ellipsis\"\n",
      "title=\"바람부는 날\" ><span class=\"ellipsis\"\n",
      "title=\"바람부는 날\" class=\"_album NPI=a:album,r:8,i:182503\"><span class=\"ellipsis\"\n",
      "title=\"바람의 철학 (바람 부는 날)\" ><span class=\"ellipsis\"\n",
      "title=\"바람부는 이 거리\" ><span class=\"ellipsis\"\n",
      "title=\"[강아지 자장가] 브람스 - 간주곡 가장조 (바람부는 풀밭을 산책하며)\" ><span class=\"ellipsis\"\n",
      "title=\"바람 부는 여름 밤 풀벌레 소리\" ><span class=\"ellipsis\"\n",
      "title=\"바람부는 날에는 너에게로 가고싶다\" ><span class=\"ellipsis\"\n",
      "title=\"3집 바람부는 날에는 너에게로 가고싶다\" class=\"_album NPI=a:album,r:13,i:460930\"><span class=\"ellipsis\"\n",
      "title=\"바람 부는 창가에서\" ><span class=\"ellipsis\"\n",
      "title=\"바람부는 날이면 압구정동에 가야한다 O.S.T (We Must Go To Apgujung-Dong On Windy Days, 1993)\" class=\"_album NPI=a:album,r:15,i:21722\"><span class=\"ellipsis\"\n",
      "title=\"바람부는 세상／무정한 사람\"\n",
      "title=\"3집 바람부는 날에는 너에게로 가고싶다\"\n",
      "title=\"바람부는 날이면 압구정동에 가야한다 O.S.T (We Must Go To Apgujung-Dong On...\"\n",
      "title=\"바람부는날\" alt=\"바람부는날\" class=\"NPI=a:artist,r:,i:496721\"\n",
      "title=\"1집 새벽달／바람부는 세상／꼬집힌 풋사랑\"\n",
      "title=\"바람 부는 날 (Feat. 윤선영)\"\n",
      "title=\"가슴 바람 부는날\"\n",
      "title=\"바람 부는 날\"\n",
      "title=\"바람부는 날\"\n",
      "title=\"바람부는 날 (With Abraham Laboriel, Chang Oh)\"\n",
      "title=\"바람부는날\"\n",
      "title=\"바람 부는 날에(걷고 싶어)- (네이버 12월 Color Your Music 선정곡)\"\n"
     ]
    }
   ],
   "source": [
    "import re\n",
    "p=re.compile('title=\".*바람.?부는.*\"')\n",
    "res=p.findall(mydata)\n",
    "for item in res:\n",
    "    print item"
   ]
  },
  {
   "cell_type": "markdown",
   "metadata": {
    "collapsed": true
   },
   "source": [
    "##### 구글 헤더 바꿔서"
   ]
  },
  {
   "cell_type": "code",
   "execution_count": 12,
   "metadata": {
    "collapsed": false
   },
   "outputs": [
    {
     "data": {
      "text/plain": [
       "'Python-urllib/1.17'"
      ]
     },
     "execution_count": 12,
     "metadata": {},
     "output_type": "execute_result"
    }
   ],
   "source": [
    "import urllib\n",
    "urllib.URLopener.version"
   ]
  },
  {
   "cell_type": "code",
   "execution_count": 18,
   "metadata": {
    "collapsed": false
   },
   "outputs": [
    {
     "name": "stdout",
     "output_type": "stream",
     "text": [
      "<!doctype html>\n",
      "<html>\n",
      "<head>\n",
      "    <title>Example Domain</title>\n",
      "\n",
      "    <meta charset=\"utf-8\" />\n",
      "    <meta http-equiv=\"Content-type\" content=\"text/html; charset=utf-8\" />\n",
      "    <meta name=\"viewport\" conten\n"
     ]
    }
   ],
   "source": [
    "import urllib2\n",
    "request_headers = {\n",
    "    \"User-Agent\": \"Mozilla/5.0 (Windows NT 10.0; WOW64; rv:51.0)\",\n",
    "    \"Accept\": \"text/html,application/xhtml+xml, */*\",\n",
    "    \"Accept-Language\": \"en-US\",\n",
    "    \"Connection\": \"keep-alive\"\n",
    "}\n",
    "# FireFox 로 해결\n",
    "\n",
    "request = urllib2.Request(\"http://www.example.com\", headers=request_headers)\n",
    "response = urllib2.urlopen(request)\n",
    "html = response.read()\n",
    "print html[:200]"
   ]
  },
  {
   "cell_type": "code",
   "execution_count": 22,
   "metadata": {
    "collapsed": false
   },
   "outputs": [
    {
     "name": "stdout",
     "output_type": "stream",
     "text": [
      "Overwriting src/naver_music_crawl.py\n"
     ]
    }
   ],
   "source": [
    "%%writefile src/naver_music_crawl.py\n",
    "#coding: utf-8\n",
    "import urllib2\n",
    "request_headers = {\n",
    "    \"User-Agent\": \"Mozilla/5.0 (Windows NT 10.0; WOW64; rv:51.0)\",\n",
    "    \"Accept\": \"text/html,application/xhtml+xml, */*\",\n",
    "    \"Accept-Language\": \"en-US\",\n",
    "    \"Connection\": \"keep-alive\"\n",
    "}\n",
    "# FireFox 로 해결\n",
    "\n",
    "request = urllib2.Request(\"http://www.example.com\", headers=request_headers)\n",
    "response = urllib2.urlopen(request)\n",
    "html = response.read()\n",
    "print html[:200]"
   ]
  },
  {
   "cell_type": "code",
   "execution_count": 23,
   "metadata": {
    "collapsed": false
   },
   "outputs": [
    {
     "name": "stdout",
     "output_type": "stream",
     "text": [
      "<!doctype html>\n",
      "<html>\n",
      "<head>\n",
      "    <title>Example Domain</title>\n",
      "\n",
      "    <meta charset=\"utf-8\" />\n",
      "    <meta http-equiv=\"Content-type\" content=\"text/html; charset=utf-8\" />\n",
      "    <meta name=\"viewport\" conten\n"
     ]
    }
   ],
   "source": [
    "!python src/naver_music_crawl.py"
   ]
  }
 ],
 "metadata": {
  "kernelspec": {
   "display_name": "Python 2",
   "language": "python",
   "name": "python2"
  },
  "language_info": {
   "codemirror_mode": {
    "name": "ipython",
    "version": 2
   },
   "file_extension": ".py",
   "mimetype": "text/x-python",
   "name": "python",
   "nbconvert_exporter": "python",
   "pygments_lexer": "ipython2",
   "version": "2.7.11"
  }
 },
 "nbformat": 4,
 "nbformat_minor": 0
}
