{
 "cells": [
  {
   "cell_type": "markdown",
   "metadata": {},
   "source": [
    "#### 문제 S-5: MongDB에 'id', '이름'을 저장하고, 조회하는 프로그램을 실행하기\n",
    "# 과제\n",
    "* javascript 파일 'src/ds_save_mongo_5.js'을 작성하고 실행한다.\n",
    "* Database명 'myDB'\n",
    "* Collection명 'myCol'\n",
    "* 데이터\n",
    "    Persons:\n",
    "      id:405, 이름:js1\n",
    "      id:406, 이름:js2\n",
    "* 이름이 js1인 경우 조회"
   ]
  },
  {
   "cell_type": "code",
   "execution_count": 6,
   "metadata": {
    "collapsed": false
   },
   "outputs": [
    {
     "name": "stdout",
     "output_type": "stream",
     "text": [
      "Overwriting src/ds_save_mongo_5.js\n"
     ]
    }
   ],
   "source": [
    "%%writefile src/ds_save_mongo_5.js\n",
    "use myDB\n",
    "show dbs\n",
    "show tables\n",
    "db.myCol.insert({\"Persons\":[{\"id\":\"405\",\"이름\":\"js1\"},{\"id\":\"406\",\"이름\":\"js2\"}]})\n",
    "db.myCol.find({\"Persons.이름\":\"js1\"})"
   ]
  },
  {
   "cell_type": "code",
   "execution_count": 1,
   "metadata": {
    "collapsed": false
   },
   "outputs": [
    {
     "name": "stdout",
     "output_type": "stream",
     "text": [
      "MongoDB shell version v3.4.3\n",
      "connecting to: mongodb://127.0.0.1:27017\n",
      "MongoDB server version: 3.4.3\n",
      "switched to db myDB\n",
      "admin  0.000GB\n",
      "local  0.000GB\n",
      "myDB   0.000GB\n",
      "test   0.000GB\n",
      "myCol\n",
      "WriteResult({ \"nInserted\" : 1 })\n",
      "{ \"_id\" : ObjectId(\"58edd0b668d08df11122fd92\"), \"Persons\" : [ { \"id\" : \"405\", \"�대쫫\" : \"js1\" }, { \"id\" : \"406\", \"�대쫫\" : \"js2\" } ] }\n",
      "{ \"_id\" : ObjectId(\"58edd13921b11e84bfafabbf\"), \"Persons\" : [ { \"id\" : \"405\", \"�대쫫\" : \"js1\" }, { \"id\" : \"406\", \"�대쫫\" : \"js2\" } ] }\n",
      "{ \"_id\" : ObjectId(\"58edd253e017d9dbd9764c54\"), \"Persons\" : [ { \"id\" : \"405\", \"�대쫫\" : \"js1\" }, { \"id\" : \"406\", \"�대쫫\" : \"js2\" } ] }\n",
      "{ \"_id\" : ObjectId(\"58edd28475549b9d4656a925\"), \"Persons\" : [ { \"id\" : \"405\", \"�대쫫\" : \"js1\" }, { \"id\" : \"406\", \"�대쫫\" : \"js2\" } ] }\n",
      "{ \"_id\" : ObjectId(\"58edd2a237931d6de57eae96\"), \"Persons\" : [ { \"id\" : \"405\", \"�대쫫\" : \"js1\" }, { \"id\" : \"406\", \"�대쫫\" : \"js2\" } ] }\n",
      "bye\n"
     ]
    }
   ],
   "source": [
    "!mongo < src/ds_save_mongo_5.js"
   ]
  }
 ],
 "metadata": {
  "kernelspec": {
   "display_name": "Python 2",
   "language": "python",
   "name": "python2"
  },
  "language_info": {
   "codemirror_mode": {
    "name": "ipython",
    "version": 2
   },
   "file_extension": ".py",
   "mimetype": "text/x-python",
   "name": "python",
   "nbconvert_exporter": "python",
   "pygments_lexer": "ipython2",
   "version": "2.7.11"
  }
 },
 "nbformat": 4,
 "nbformat_minor": 0
}
