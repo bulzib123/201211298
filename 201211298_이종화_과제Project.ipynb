{
 "cells": [
  {
   "cell_type": "code",
   "execution_count": 3,
   "metadata": {
    "collapsed": true
   },
   "outputs": [],
   "source": [
    "import os\n",
    "import sys \n",
    "os.environ[\"SPARK_HOME\"]=\"C:\\Users\\bulzi\\Downloads\\spark-2.0.0-bin-hadoop2.6\"\n",
    "os.environ[\"PYLIB\"]=os.path.join(os.environ[\"SPARK_HOME\"],'python','lib')\n",
    "sys.path.insert(0,os.path.join(os.environ[\"PYLIB\"],'py4j-0.10.1-src.zip'))\n",
    "sys.path.insert(0,os.path.join(os.environ[\"PYLIB\"],'pyspark.zip'))"
   ]
  },
  {
   "cell_type": "code",
   "execution_count": 4,
   "metadata": {
    "collapsed": true
   },
   "outputs": [],
   "source": [
    "import findspark\n",
    "findspark.init(\"C:\\\\Users\\\\bulzi\\\\Downloads\\\\spark-2.0.0-bin-hadoop2.6\")"
   ]
  },
  {
   "cell_type": "code",
   "execution_count": 5,
   "metadata": {
    "collapsed": true
   },
   "outputs": [],
   "source": [
    "import pyspark\n",
    "myConf=pyspark.SparkConf()\n",
    "spark = pyspark.sql.SparkSession.builder\\\n",
    "    .master(\"local\")\\\n",
    "    .appName(\"myApp\")\\\n",
    "    .config(conf=myConf)\\\n",
    "    .getOrCreate()"
   ]
  },
  {
   "cell_type": "code",
   "execution_count": 11,
   "metadata": {
    "collapsed": false
   },
   "outputs": [
    {
     "name": "stdout",
     "output_type": "stream",
     "text": [
      "Writing data/OctagonExcel.txt\n"
     ]
    }
   ],
   "source": [
    "%%writefile data/OctagonExcel.txt\n",
    "from xlrd import open_workbook\n",
    "wb = open_workbook('data\\OctagonExcel.xls')\n",
    "for sheet in wb.sheets():\n",
    "    for i in range(sheet.nrows-1):\n",
    "        row = sheet.row(i)\n",
    "        print row[0],row[5]"
   ]
  },
  {
   "cell_type": "code",
   "execution_count": 13,
   "metadata": {
    "collapsed": false
   },
   "outputs": [
    {
     "name": "stdout",
     "output_type": "stream",
     "text": [
      "Writing src/OctagonExcel.py\n"
     ]
    }
   ],
   "source": [
    "%%writefile src/OctagonExcel.py\n",
    "#coding: utf-8\n",
    "from xlrd import open_workbook\n",
    "wb = open_workbook('data\\OctagonExcel.xls')\n",
    "for sheet in wb.sheets():\n",
    "    for i in range(sheet.nrows-1):\n",
    "        row = sheet.row(i)\n",
    "        print row[0],row[5]"
   ]
  },
  {
   "cell_type": "code",
   "execution_count": 14,
   "metadata": {
    "collapsed": false,
    "scrolled": true
   },
   "outputs": [
    {
     "name": "stdout",
     "output_type": "stream",
     "text": [
      "text:u'\\uae30\\uac04' text:u'\\ubbf8\\uc138\\uba3c\\uc9c0(\\u338d/\\u33a5)'\n",
      "text:u'2015.01' number:49.0\n",
      "text:u'2015.02' number:84.0\n",
      "text:u'2015.03' number:71.0\n",
      "text:u'2015.04' number:45.0\n",
      "text:u'2015.05' number:45.0\n",
      "text:u'2015.06' number:35.0\n",
      "text:u'2015.07' number:30.0\n",
      "text:u'2015.08' number:34.0\n",
      "text:u'2015.09' number:29.0\n",
      "text:u'2015.10' number:45.0\n",
      "text:u'2015.11' number:33.0\n",
      "text:u'2015.12' number:48.0\n",
      "text:u'2016.01' number:50.0\n",
      "text:u'2016.02' number:45.0\n",
      "text:u'2016.03' number:64.0\n",
      "text:u'2016.04' number:71.0\n",
      "text:u'2016.05' number:56.0\n",
      "text:u'2016.06' number:46.0\n",
      "text:u'2016.07' number:33.0\n",
      "text:u'2016.08' number:34.0\n",
      "text:u'2016.09' number:37.0\n",
      "text:u'2016.10' number:37.0\n",
      "text:u'2016.11' number:53.0\n",
      "text:u'2016.12' number:48.0\n",
      "text:u'2017.01' number:53.0\n",
      "text:u'2017.02' number:46.0\n",
      "text:u'2017.03' number:60.0\n"
     ]
    }
   ],
   "source": [
    "!python src/OctagonExcel.py"
   ]
  },
  {
   "cell_type": "markdown",
   "metadata": {},
   "source": [
    "### 출력 결과 저장"
   ]
  },
  {
   "cell_type": "code",
   "execution_count": 30,
   "metadata": {
    "collapsed": false
   },
   "outputs": [],
   "source": [
    "out=open(\"OctagonExcel.txt\",'w')\n",
    "from xlrd import open_workbook\n",
    "wb = open_workbook('data\\OctagonExcel.xls')\n",
    "for sheet in wb.sheets():\n",
    "    for i in range(sheet.nrows-1):\n",
    "        row = sheet.row(i)\n",
    "        print (row[0],row[5],file=out)\n",
    "out.close()"
   ]
  },
  {
   "cell_type": "code",
   "execution_count": 12,
   "metadata": {
    "collapsed": false
   },
   "outputs": [
    {
     "name": "stdout",
     "output_type": "stream",
     "text": [
      "from xlrd import open_workbook\n"
     ]
    }
   ],
   "source": [
    "import pyspark\n",
    "import os\n",
    "myConf = pyspark.SparkConf()\n",
    "spark = pyspark.sql.SparkSession.builder.master('local').appName('myApp').config(conf=myConf).getOrCreate()\n",
    "filepath = os.path.join('data','OctagonExcel.txt')\n",
    "Rdd = spark.sparkContext.textFile(filepath)\n",
    "print Rdd.first()"
   ]
  },
  {
   "cell_type": "markdown",
   "metadata": {},
   "source": [
    "#### 출력 All"
   ]
  },
  {
   "cell_type": "code",
   "execution_count": 120,
   "metadata": {
    "collapsed": false,
    "scrolled": false
   },
   "outputs": [
    {
     "name": "stdout",
     "output_type": "stream",
     "text": [
      "기간 구분 아황산가스(ppm) 일산화탄소(ppm) 이산화질소(ppm) 미세먼지(㎍/㎥) 초미세먼지(㎍/㎥) 오존(ppm) \n",
      "2015.01 대기오염 0.007 0.7 0.037 49.0 25.0 0.011 \n",
      "2015.02 대기오염 0.007 0.6 0.036 84.0 30.0 0.016 \n",
      "2015.03 대기오염 0.007 0.6 0.04 71.0 30.0 0.022 \n",
      "2015.04 대기오염 0.005 0.5 0.033 45.0 21.0 0.028 \n",
      "2015.05 대기오염 0.006 0.4 0.032 45.0 22.0 0.033 \n",
      "2015.06 대기오염 0.005 0.4 0.025 35.0 20.0 0.038 \n",
      "2015.07 대기오염 0.005 0.4 0.021 30.0 19.0 0.027 \n",
      "2015.08 대기오염 0.005 0.4 0.023 34.0 22.0 0.029 \n",
      "2015.09 대기오염 0.004 0.4 0.028 29.0 16.0 0.025 \n",
      "2015.10 대기오염 0.005 0.5 0.035 45.0 25.0 0.019 \n",
      "2015.11 대기오염 0.005 0.6 0.034 33.0 21.0 0.012 \n",
      "2015.12 대기오염 0.006 0.7 0.039 48.0 28.0 0.009 \n",
      "2016.01 대기오염 0.006 0.6 0.035 50.0 27.0 0.014 \n",
      "2016.02 대기오염 0.006 0.6 0.033 45.0 23.0 0.018 \n",
      "2016.03 대기오염 0.006 0.6 0.038 64.0 32.0 0.025 \n",
      "2016.04 대기오염 0.005 0.5 0.036 71.0 30.0 0.031 \n",
      "2016.05 대기오염 0.005 0.5 0.031 56.0 29.0 0.039 \n",
      "2016.06 대기오염 0.005 0.4 0.028 46.0 28.0 0.037 \n",
      "2016.07 대기오염 0.004 0.4 0.024 33.0 22.0 0.026 \n",
      "2016.08 대기오염 0.004 0.4 0.023 34.0 22.0 0.03 \n",
      "2016.09 대기오염 0.004 0.5 0.026 37.0 24.0 0.027 \n",
      "2016.10 대기오염 0.004 0.5 0.029 37.0 20.0 0.017 \n",
      "2016.11 대기오염 0.005 0.6 0.035 53.0 28.0 0.014 \n",
      "2016.12 대기오염 0.005 0.7 0.036 48.0 30.0 0.009 \n",
      "2017.01 대기오염 0.005 0.7 0.035 53.0 32.0 0.014 \n",
      "2017.02 대기오염 0.005 0.6 0.035 46.0 28.0 0.018 \n",
      "2017.03 대기오염 0.005 0.6 0.038 60.0 39.0 0.025 \n",
      "        \n"
     ]
    }
   ],
   "source": [
    "from __future__ import print_function\n",
    "from xlrd import open_workbook\n",
    "wb = open_workbook('data\\OctagonExcel.xls', encoding_override='utf-8')\n",
    "for i in range(sheet.nrows):\n",
    "    row = sheet.row(i)\n",
    "    #print row[0],row[1],row[5]\n",
    "    #print(map(lambda x: x.encode('utf-8') if isinstance(x, unicode) else x, row))\n",
    "    #print(map(lambda x: x.value.encode('utf-8') if isinstance(x.value, unicode) else x, row))\n",
    "    for cell in row:\n",
    "        print(cell.value, end=' ') \n",
    "    print() "
   ]
  },
  {
   "cell_type": "markdown",
   "metadata": {},
   "source": [
    "### 위의 단순 정보 중 필요한 것만 분류"
   ]
  },
  {
   "cell_type": "code",
   "execution_count": 20,
   "metadata": {
    "collapsed": false,
    "scrolled": true
   },
   "outputs": [
    {
     "data": {
      "text/html": [
       "<div>\n",
       "<table border=\"1\" class=\"dataframe\">\n",
       "  <thead>\n",
       "    <tr style=\"text-align: right;\">\n",
       "      <th></th>\n",
       "      <th>기간</th>\n",
       "      <th>구분</th>\n",
       "      <th>아황산가스(ppm)</th>\n",
       "      <th>일산화탄소(ppm)</th>\n",
       "      <th>이산화질소(ppm)</th>\n",
       "      <th>미세먼지(㎍/㎥)</th>\n",
       "      <th>초미세먼지(㎍/㎥)</th>\n",
       "      <th>오존(ppm)</th>\n",
       "    </tr>\n",
       "  </thead>\n",
       "  <tbody>\n",
       "    <tr>\n",
       "      <th>0</th>\n",
       "      <td>2015.01</td>\n",
       "      <td>대기오염</td>\n",
       "      <td>0.007</td>\n",
       "      <td>0.7</td>\n",
       "      <td>0.037</td>\n",
       "      <td>49.0</td>\n",
       "      <td>25.0</td>\n",
       "      <td>0.011</td>\n",
       "    </tr>\n",
       "    <tr>\n",
       "      <th>1</th>\n",
       "      <td>2015.02</td>\n",
       "      <td>대기오염</td>\n",
       "      <td>0.007</td>\n",
       "      <td>0.6</td>\n",
       "      <td>0.036</td>\n",
       "      <td>84.0</td>\n",
       "      <td>30.0</td>\n",
       "      <td>0.016</td>\n",
       "    </tr>\n",
       "    <tr>\n",
       "      <th>2</th>\n",
       "      <td>2015.03</td>\n",
       "      <td>대기오염</td>\n",
       "      <td>0.007</td>\n",
       "      <td>0.6</td>\n",
       "      <td>0.040</td>\n",
       "      <td>71.0</td>\n",
       "      <td>30.0</td>\n",
       "      <td>0.022</td>\n",
       "    </tr>\n",
       "    <tr>\n",
       "      <th>3</th>\n",
       "      <td>2015.04</td>\n",
       "      <td>대기오염</td>\n",
       "      <td>0.005</td>\n",
       "      <td>0.5</td>\n",
       "      <td>0.033</td>\n",
       "      <td>45.0</td>\n",
       "      <td>21.0</td>\n",
       "      <td>0.028</td>\n",
       "    </tr>\n",
       "    <tr>\n",
       "      <th>4</th>\n",
       "      <td>2015.05</td>\n",
       "      <td>대기오염</td>\n",
       "      <td>0.006</td>\n",
       "      <td>0.4</td>\n",
       "      <td>0.032</td>\n",
       "      <td>45.0</td>\n",
       "      <td>22.0</td>\n",
       "      <td>0.033</td>\n",
       "    </tr>\n",
       "    <tr>\n",
       "      <th>5</th>\n",
       "      <td>2015.06</td>\n",
       "      <td>대기오염</td>\n",
       "      <td>0.005</td>\n",
       "      <td>0.4</td>\n",
       "      <td>0.025</td>\n",
       "      <td>35.0</td>\n",
       "      <td>20.0</td>\n",
       "      <td>0.038</td>\n",
       "    </tr>\n",
       "    <tr>\n",
       "      <th>6</th>\n",
       "      <td>2015.07</td>\n",
       "      <td>대기오염</td>\n",
       "      <td>0.005</td>\n",
       "      <td>0.4</td>\n",
       "      <td>0.021</td>\n",
       "      <td>30.0</td>\n",
       "      <td>19.0</td>\n",
       "      <td>0.027</td>\n",
       "    </tr>\n",
       "    <tr>\n",
       "      <th>7</th>\n",
       "      <td>2015.08</td>\n",
       "      <td>대기오염</td>\n",
       "      <td>0.005</td>\n",
       "      <td>0.4</td>\n",
       "      <td>0.023</td>\n",
       "      <td>34.0</td>\n",
       "      <td>22.0</td>\n",
       "      <td>0.029</td>\n",
       "    </tr>\n",
       "    <tr>\n",
       "      <th>8</th>\n",
       "      <td>2015.09</td>\n",
       "      <td>대기오염</td>\n",
       "      <td>0.004</td>\n",
       "      <td>0.4</td>\n",
       "      <td>0.028</td>\n",
       "      <td>29.0</td>\n",
       "      <td>16.0</td>\n",
       "      <td>0.025</td>\n",
       "    </tr>\n",
       "    <tr>\n",
       "      <th>9</th>\n",
       "      <td>2015.10</td>\n",
       "      <td>대기오염</td>\n",
       "      <td>0.005</td>\n",
       "      <td>0.5</td>\n",
       "      <td>0.035</td>\n",
       "      <td>45.0</td>\n",
       "      <td>25.0</td>\n",
       "      <td>0.019</td>\n",
       "    </tr>\n",
       "    <tr>\n",
       "      <th>10</th>\n",
       "      <td>2015.11</td>\n",
       "      <td>대기오염</td>\n",
       "      <td>0.005</td>\n",
       "      <td>0.6</td>\n",
       "      <td>0.034</td>\n",
       "      <td>33.0</td>\n",
       "      <td>21.0</td>\n",
       "      <td>0.012</td>\n",
       "    </tr>\n",
       "    <tr>\n",
       "      <th>11</th>\n",
       "      <td>2015.12</td>\n",
       "      <td>대기오염</td>\n",
       "      <td>0.006</td>\n",
       "      <td>0.7</td>\n",
       "      <td>0.039</td>\n",
       "      <td>48.0</td>\n",
       "      <td>28.0</td>\n",
       "      <td>0.009</td>\n",
       "    </tr>\n",
       "    <tr>\n",
       "      <th>12</th>\n",
       "      <td>2016.01</td>\n",
       "      <td>대기오염</td>\n",
       "      <td>0.006</td>\n",
       "      <td>0.6</td>\n",
       "      <td>0.035</td>\n",
       "      <td>50.0</td>\n",
       "      <td>27.0</td>\n",
       "      <td>0.014</td>\n",
       "    </tr>\n",
       "    <tr>\n",
       "      <th>13</th>\n",
       "      <td>2016.02</td>\n",
       "      <td>대기오염</td>\n",
       "      <td>0.006</td>\n",
       "      <td>0.6</td>\n",
       "      <td>0.033</td>\n",
       "      <td>45.0</td>\n",
       "      <td>23.0</td>\n",
       "      <td>0.018</td>\n",
       "    </tr>\n",
       "    <tr>\n",
       "      <th>14</th>\n",
       "      <td>2016.03</td>\n",
       "      <td>대기오염</td>\n",
       "      <td>0.006</td>\n",
       "      <td>0.6</td>\n",
       "      <td>0.038</td>\n",
       "      <td>64.0</td>\n",
       "      <td>32.0</td>\n",
       "      <td>0.025</td>\n",
       "    </tr>\n",
       "    <tr>\n",
       "      <th>15</th>\n",
       "      <td>2016.04</td>\n",
       "      <td>대기오염</td>\n",
       "      <td>0.005</td>\n",
       "      <td>0.5</td>\n",
       "      <td>0.036</td>\n",
       "      <td>71.0</td>\n",
       "      <td>30.0</td>\n",
       "      <td>0.031</td>\n",
       "    </tr>\n",
       "    <tr>\n",
       "      <th>16</th>\n",
       "      <td>2016.05</td>\n",
       "      <td>대기오염</td>\n",
       "      <td>0.005</td>\n",
       "      <td>0.5</td>\n",
       "      <td>0.031</td>\n",
       "      <td>56.0</td>\n",
       "      <td>29.0</td>\n",
       "      <td>0.039</td>\n",
       "    </tr>\n",
       "    <tr>\n",
       "      <th>17</th>\n",
       "      <td>2016.06</td>\n",
       "      <td>대기오염</td>\n",
       "      <td>0.005</td>\n",
       "      <td>0.4</td>\n",
       "      <td>0.028</td>\n",
       "      <td>46.0</td>\n",
       "      <td>28.0</td>\n",
       "      <td>0.037</td>\n",
       "    </tr>\n",
       "    <tr>\n",
       "      <th>18</th>\n",
       "      <td>2016.07</td>\n",
       "      <td>대기오염</td>\n",
       "      <td>0.004</td>\n",
       "      <td>0.4</td>\n",
       "      <td>0.024</td>\n",
       "      <td>33.0</td>\n",
       "      <td>22.0</td>\n",
       "      <td>0.026</td>\n",
       "    </tr>\n",
       "    <tr>\n",
       "      <th>19</th>\n",
       "      <td>2016.08</td>\n",
       "      <td>대기오염</td>\n",
       "      <td>0.004</td>\n",
       "      <td>0.4</td>\n",
       "      <td>0.023</td>\n",
       "      <td>34.0</td>\n",
       "      <td>22.0</td>\n",
       "      <td>0.030</td>\n",
       "    </tr>\n",
       "    <tr>\n",
       "      <th>20</th>\n",
       "      <td>2016.09</td>\n",
       "      <td>대기오염</td>\n",
       "      <td>0.004</td>\n",
       "      <td>0.5</td>\n",
       "      <td>0.026</td>\n",
       "      <td>37.0</td>\n",
       "      <td>24.0</td>\n",
       "      <td>0.027</td>\n",
       "    </tr>\n",
       "    <tr>\n",
       "      <th>21</th>\n",
       "      <td>2016.10</td>\n",
       "      <td>대기오염</td>\n",
       "      <td>0.004</td>\n",
       "      <td>0.5</td>\n",
       "      <td>0.029</td>\n",
       "      <td>37.0</td>\n",
       "      <td>20.0</td>\n",
       "      <td>0.017</td>\n",
       "    </tr>\n",
       "    <tr>\n",
       "      <th>22</th>\n",
       "      <td>2016.11</td>\n",
       "      <td>대기오염</td>\n",
       "      <td>0.005</td>\n",
       "      <td>0.6</td>\n",
       "      <td>0.035</td>\n",
       "      <td>53.0</td>\n",
       "      <td>28.0</td>\n",
       "      <td>0.014</td>\n",
       "    </tr>\n",
       "    <tr>\n",
       "      <th>23</th>\n",
       "      <td>2016.12</td>\n",
       "      <td>대기오염</td>\n",
       "      <td>0.005</td>\n",
       "      <td>0.7</td>\n",
       "      <td>0.036</td>\n",
       "      <td>48.0</td>\n",
       "      <td>30.0</td>\n",
       "      <td>0.009</td>\n",
       "    </tr>\n",
       "    <tr>\n",
       "      <th>24</th>\n",
       "      <td>2017.01</td>\n",
       "      <td>대기오염</td>\n",
       "      <td>0.005</td>\n",
       "      <td>0.7</td>\n",
       "      <td>0.035</td>\n",
       "      <td>53.0</td>\n",
       "      <td>32.0</td>\n",
       "      <td>0.014</td>\n",
       "    </tr>\n",
       "    <tr>\n",
       "      <th>25</th>\n",
       "      <td>2017.02</td>\n",
       "      <td>대기오염</td>\n",
       "      <td>0.005</td>\n",
       "      <td>0.6</td>\n",
       "      <td>0.035</td>\n",
       "      <td>46.0</td>\n",
       "      <td>28.0</td>\n",
       "      <td>0.018</td>\n",
       "    </tr>\n",
       "    <tr>\n",
       "      <th>26</th>\n",
       "      <td>2017.03</td>\n",
       "      <td>대기오염</td>\n",
       "      <td>0.005</td>\n",
       "      <td>0.6</td>\n",
       "      <td>0.038</td>\n",
       "      <td>60.0</td>\n",
       "      <td>39.0</td>\n",
       "      <td>0.025</td>\n",
       "    </tr>\n",
       "    <tr>\n",
       "      <th>27</th>\n",
       "      <td>NaN</td>\n",
       "      <td>NaN</td>\n",
       "      <td>NaN</td>\n",
       "      <td>NaN</td>\n",
       "      <td>NaN</td>\n",
       "      <td>NaN</td>\n",
       "      <td>NaN</td>\n",
       "      <td>NaN</td>\n",
       "    </tr>\n",
       "  </tbody>\n",
       "</table>\n",
       "</div>"
      ],
      "text/plain": [
       "         기간    구분  아황산가스(ppm)  일산화탄소(ppm)  이산화질소(ppm)  미세먼지(㎍/㎥)  초미세먼지(㎍/㎥)  \\\n",
       "0   2015.01  대기오염       0.007         0.7       0.037       49.0        25.0   \n",
       "1   2015.02  대기오염       0.007         0.6       0.036       84.0        30.0   \n",
       "2   2015.03  대기오염       0.007         0.6       0.040       71.0        30.0   \n",
       "3   2015.04  대기오염       0.005         0.5       0.033       45.0        21.0   \n",
       "4   2015.05  대기오염       0.006         0.4       0.032       45.0        22.0   \n",
       "5   2015.06  대기오염       0.005         0.4       0.025       35.0        20.0   \n",
       "6   2015.07  대기오염       0.005         0.4       0.021       30.0        19.0   \n",
       "7   2015.08  대기오염       0.005         0.4       0.023       34.0        22.0   \n",
       "8   2015.09  대기오염       0.004         0.4       0.028       29.0        16.0   \n",
       "9   2015.10  대기오염       0.005         0.5       0.035       45.0        25.0   \n",
       "10  2015.11  대기오염       0.005         0.6       0.034       33.0        21.0   \n",
       "11  2015.12  대기오염       0.006         0.7       0.039       48.0        28.0   \n",
       "12  2016.01  대기오염       0.006         0.6       0.035       50.0        27.0   \n",
       "13  2016.02  대기오염       0.006         0.6       0.033       45.0        23.0   \n",
       "14  2016.03  대기오염       0.006         0.6       0.038       64.0        32.0   \n",
       "15  2016.04  대기오염       0.005         0.5       0.036       71.0        30.0   \n",
       "16  2016.05  대기오염       0.005         0.5       0.031       56.0        29.0   \n",
       "17  2016.06  대기오염       0.005         0.4       0.028       46.0        28.0   \n",
       "18  2016.07  대기오염       0.004         0.4       0.024       33.0        22.0   \n",
       "19  2016.08  대기오염       0.004         0.4       0.023       34.0        22.0   \n",
       "20  2016.09  대기오염       0.004         0.5       0.026       37.0        24.0   \n",
       "21  2016.10  대기오염       0.004         0.5       0.029       37.0        20.0   \n",
       "22  2016.11  대기오염       0.005         0.6       0.035       53.0        28.0   \n",
       "23  2016.12  대기오염       0.005         0.7       0.036       48.0        30.0   \n",
       "24  2017.01  대기오염       0.005         0.7       0.035       53.0        32.0   \n",
       "25  2017.02  대기오염       0.005         0.6       0.035       46.0        28.0   \n",
       "26  2017.03  대기오염       0.005         0.6       0.038       60.0        39.0   \n",
       "27      NaN   NaN         NaN         NaN         NaN        NaN         NaN   \n",
       "\n",
       "    오존(ppm)  \n",
       "0     0.011  \n",
       "1     0.016  \n",
       "2     0.022  \n",
       "3     0.028  \n",
       "4     0.033  \n",
       "5     0.038  \n",
       "6     0.027  \n",
       "7     0.029  \n",
       "8     0.025  \n",
       "9     0.019  \n",
       "10    0.012  \n",
       "11    0.009  \n",
       "12    0.014  \n",
       "13    0.018  \n",
       "14    0.025  \n",
       "15    0.031  \n",
       "16    0.039  \n",
       "17    0.037  \n",
       "18    0.026  \n",
       "19    0.030  \n",
       "20    0.027  \n",
       "21    0.017  \n",
       "22    0.014  \n",
       "23    0.009  \n",
       "24    0.014  \n",
       "25    0.018  \n",
       "26    0.025  \n",
       "27      NaN  "
      ]
     },
     "execution_count": 20,
     "metadata": {},
     "output_type": "execute_result"
    }
   ],
   "source": [
    "import pandas as pd\n",
    "import matplotlib.pyplot as plt\n",
    "df = pd.read_excel('data\\OctagonExcel.xls')\n",
    "%matplotlib inline\n",
    "df"
   ]
  },
  {
   "cell_type": "code",
   "execution_count": 49,
   "metadata": {
    "collapsed": false,
    "scrolled": false
   },
   "outputs": [
    {
     "data": {
      "text/html": [
       "<div>\n",
       "<style>\n",
       "    .dataframe thead tr:only-child th {\n",
       "        text-align: right;\n",
       "    }\n",
       "\n",
       "    .dataframe thead th {\n",
       "        text-align: left;\n",
       "    }\n",
       "\n",
       "    .dataframe tbody tr th {\n",
       "        vertical-align: top;\n",
       "    }\n",
       "</style>\n",
       "<table border=\"1\" class=\"dataframe\">\n",
       "  <thead>\n",
       "    <tr style=\"text-align: right;\">\n",
       "      <th></th>\n",
       "      <th>기간</th>\n",
       "      <th>미세먼지(㎍/㎥)</th>\n",
       "    </tr>\n",
       "  </thead>\n",
       "  <tbody>\n",
       "    <tr>\n",
       "      <th>0</th>\n",
       "      <td>2015.01</td>\n",
       "      <td>49.0</td>\n",
       "    </tr>\n",
       "    <tr>\n",
       "      <th>1</th>\n",
       "      <td>2015.02</td>\n",
       "      <td>84.0</td>\n",
       "    </tr>\n",
       "    <tr>\n",
       "      <th>2</th>\n",
       "      <td>2015.03</td>\n",
       "      <td>71.0</td>\n",
       "    </tr>\n",
       "    <tr>\n",
       "      <th>3</th>\n",
       "      <td>2015.04</td>\n",
       "      <td>45.0</td>\n",
       "    </tr>\n",
       "    <tr>\n",
       "      <th>4</th>\n",
       "      <td>2015.05</td>\n",
       "      <td>45.0</td>\n",
       "    </tr>\n",
       "    <tr>\n",
       "      <th>5</th>\n",
       "      <td>2015.06</td>\n",
       "      <td>35.0</td>\n",
       "    </tr>\n",
       "    <tr>\n",
       "      <th>6</th>\n",
       "      <td>2015.07</td>\n",
       "      <td>30.0</td>\n",
       "    </tr>\n",
       "    <tr>\n",
       "      <th>7</th>\n",
       "      <td>2015.08</td>\n",
       "      <td>34.0</td>\n",
       "    </tr>\n",
       "    <tr>\n",
       "      <th>8</th>\n",
       "      <td>2015.09</td>\n",
       "      <td>29.0</td>\n",
       "    </tr>\n",
       "    <tr>\n",
       "      <th>9</th>\n",
       "      <td>2015.10</td>\n",
       "      <td>45.0</td>\n",
       "    </tr>\n",
       "    <tr>\n",
       "      <th>10</th>\n",
       "      <td>2015.11</td>\n",
       "      <td>33.0</td>\n",
       "    </tr>\n",
       "    <tr>\n",
       "      <th>11</th>\n",
       "      <td>2015.12</td>\n",
       "      <td>48.0</td>\n",
       "    </tr>\n",
       "    <tr>\n",
       "      <th>12</th>\n",
       "      <td>2016.01</td>\n",
       "      <td>50.0</td>\n",
       "    </tr>\n",
       "    <tr>\n",
       "      <th>13</th>\n",
       "      <td>2016.02</td>\n",
       "      <td>45.0</td>\n",
       "    </tr>\n",
       "    <tr>\n",
       "      <th>14</th>\n",
       "      <td>2016.03</td>\n",
       "      <td>64.0</td>\n",
       "    </tr>\n",
       "    <tr>\n",
       "      <th>15</th>\n",
       "      <td>2016.04</td>\n",
       "      <td>71.0</td>\n",
       "    </tr>\n",
       "    <tr>\n",
       "      <th>16</th>\n",
       "      <td>2016.05</td>\n",
       "      <td>56.0</td>\n",
       "    </tr>\n",
       "    <tr>\n",
       "      <th>17</th>\n",
       "      <td>2016.06</td>\n",
       "      <td>46.0</td>\n",
       "    </tr>\n",
       "    <tr>\n",
       "      <th>18</th>\n",
       "      <td>2016.07</td>\n",
       "      <td>33.0</td>\n",
       "    </tr>\n",
       "    <tr>\n",
       "      <th>19</th>\n",
       "      <td>2016.08</td>\n",
       "      <td>34.0</td>\n",
       "    </tr>\n",
       "    <tr>\n",
       "      <th>20</th>\n",
       "      <td>2016.09</td>\n",
       "      <td>37.0</td>\n",
       "    </tr>\n",
       "    <tr>\n",
       "      <th>21</th>\n",
       "      <td>2016.10</td>\n",
       "      <td>37.0</td>\n",
       "    </tr>\n",
       "    <tr>\n",
       "      <th>22</th>\n",
       "      <td>2016.11</td>\n",
       "      <td>53.0</td>\n",
       "    </tr>\n",
       "    <tr>\n",
       "      <th>23</th>\n",
       "      <td>2016.12</td>\n",
       "      <td>48.0</td>\n",
       "    </tr>\n",
       "    <tr>\n",
       "      <th>24</th>\n",
       "      <td>2017.01</td>\n",
       "      <td>53.0</td>\n",
       "    </tr>\n",
       "    <tr>\n",
       "      <th>25</th>\n",
       "      <td>2017.02</td>\n",
       "      <td>46.0</td>\n",
       "    </tr>\n",
       "    <tr>\n",
       "      <th>26</th>\n",
       "      <td>2017.03</td>\n",
       "      <td>60.0</td>\n",
       "    </tr>\n",
       "  </tbody>\n",
       "</table>\n",
       "</div>"
      ],
      "text/plain": [
       "         기간  미세먼지(㎍/㎥)\n",
       "0   2015.01       49.0\n",
       "1   2015.02       84.0\n",
       "2   2015.03       71.0\n",
       "3   2015.04       45.0\n",
       "4   2015.05       45.0\n",
       "5   2015.06       35.0\n",
       "6   2015.07       30.0\n",
       "7   2015.08       34.0\n",
       "8   2015.09       29.0\n",
       "9   2015.10       45.0\n",
       "10  2015.11       33.0\n",
       "11  2015.12       48.0\n",
       "12  2016.01       50.0\n",
       "13  2016.02       45.0\n",
       "14  2016.03       64.0\n",
       "15  2016.04       71.0\n",
       "16  2016.05       56.0\n",
       "17  2016.06       46.0\n",
       "18  2016.07       33.0\n",
       "19  2016.08       34.0\n",
       "20  2016.09       37.0\n",
       "21  2016.10       37.0\n",
       "22  2016.11       53.0\n",
       "23  2016.12       48.0\n",
       "24  2017.01       53.0\n",
       "25  2017.02       46.0\n",
       "26  2017.03       60.0"
      ]
     },
     "execution_count": 49,
     "metadata": {},
     "output_type": "execute_result"
    }
   ],
   "source": [
    "import pandas as pd\n",
    "import matplotlib.pyplot as plt\n",
    "table = pd.read_excel('data\\OctagonExcel.xls',\n",
    "                     header = 0,\n",
    "                     parse_cols =\"A, F\",\n",
    "                     convert_float = True)\n",
    "table.head(27)"
   ]
  },
  {
   "cell_type": "markdown",
   "metadata": {},
   "source": [
    "### 출력 데이터 차트화"
   ]
  },
  {
   "cell_type": "code",
   "execution_count": 142,
   "metadata": {
    "collapsed": false
   },
   "outputs": [
    {
     "data": {
      "image/png": "[encoded data removed]",
      "text/plain": [
       "<matplotlib.figure.Figure at 0xedd3668>"
      ]
     },
     "metadata": {},
     "output_type": "display_data"
    }
   ],
   "source": [
    "import pandas as pd\n",
    "import matplotlib.pyplot as plt\n",
    "table = pd.read_excel('data\\OctagonExcel.xls',\n",
    "                     header = 0,\n",
    "                     parse_cols =\"A, F\",\n",
    "                     convert_float = True)\n",
    "%matplotlib inline\n",
    "\n",
    "\n",
    "plt.figure(figsize=(13,4))\n",
    "\n",
    "plt.xlabel('date (2016.04. ~ 2017.03)')\n",
    "plt.ylabel('fine dust')\n",
    "plt.title('fine dust chart')\n",
    "plt.grid()\n",
    "plt.plot(table.loc[14:,table.columns[1]])\n",
    "#plt.plot(table.loc[14:])\n",
    "#plt.plot(table[table.columns[0]],table[table.columns[1]])\n",
    "#plt.xlim(15,17)\n",
    "#plt.ylim(0,100)\n",
    "plt.show()"
   ]
  },
  {
   "cell_type": "markdown",
   "metadata": {},
   "source": [
    "### 공공데이터 미세먼지 예보 API 사용 및 네이버데이터랩 카드 사용 통계 가져오기\n",
    "* 45704e706462756c3634796c526f78\n",
    "* http://datalab.naver.com/local/card_result.naver\n",
    "    * 실행 성공"
   ]
  },
  {
   "cell_type": "code",
   "execution_count": 17,
   "metadata": {
    "collapsed": false
   },
   "outputs": [
    {
     "name": "stdout",
     "output_type": "stream",
     "text": [
      "Overwriting data/mylib.py\n"
     ]
    }
   ],
   "source": [
    "%%writefile data/mylib.py\n",
    "def say():\n",
    "    print 'hi'\n",
    "\n",
    "def getKey(keyPath):\n",
    "    d=dict()\n",
    "    f=open(keyPath,'r')\n",
    "    for line in f.readlines():\n",
    "        row=line.split('=')\n",
    "        row0=row[0]\n",
    "        d[row0]=row[1].strip()\n",
    "    return d"
   ]
  },
  {
   "cell_type": "code",
   "execution_count": 18,
   "metadata": {
    "collapsed": false
   },
   "outputs": [
    {
     "name": "stdout",
     "output_type": "stream",
     "text": [
      "hi\n",
      "None\n"
     ]
    }
   ],
   "source": [
    "import data.mylib\n",
    "print data.mylib.say()"
   ]
  },
  {
   "cell_type": "code",
   "execution_count": 5,
   "metadata": {
    "collapsed": false
   },
   "outputs": [],
   "source": [
    "import os\n",
    "import data.mylib\n",
    "\n",
    "keyPath=os.path.join(os.getcwd(), 'data', 'key.properties')\n",
    "key=data.mylib.getKey(keyPath)"
   ]
  },
  {
   "cell_type": "code",
   "execution_count": 28,
   "metadata": {
    "collapsed": false
   },
   "outputs": [
    {
     "name": "stdout",
     "output_type": "stream",
     "text": [
      "Overwriting data/key.properties\n"
     ]
    }
   ],
   "source": [
    "%%writefile data/key.properties\n",
    "dataseoul=45704e706462756c3634796c526f78"
   ]
  },
  {
   "cell_type": "code",
   "execution_count": 12,
   "metadata": {
    "collapsed": false
   },
   "outputs": [
    {
     "name": "stdout",
     "output_type": "stream",
     "text": [
      "Writing data/dust.py\n"
     ]
    }
   ],
   "source": [
    "%%writefile data/dust.py\n",
    "# coding: utf-8\n",
    "import os\n",
    "import requests\n",
    "import urlparse\n",
    "import mylib\n",
    "\n",
    "def doIt():\n",
    "    keyPath=os.path.join(os.getcwd()+'/key.properties')\n",
    "    key=mylib.getKey(keyPath)\n",
    "    # (1) make params with resource IDs\n",
    "    KEY=key['dataseoul']\n",
    "    TYPE='json'\n",
    "    SERVICE='ForecastWarningMinuteParticleOfDustService'\n",
    "    START_INDEX=str(1)\n",
    "    END_INDEX=str(5)\n",
    "    #LINE_NUM=str(2)\n",
    "    params=os.path.join(KEY,TYPE,SERVICE,START_INDEX,END_INDEX)\n",
    "    # (2) make a full url\n",
    "    _url='http://openAPI.seoul.go.kr:8088/'\n",
    "    url=urlparse.urljoin(_url,params)\n",
    "    url=url.replace('\\\\','/')\n",
    "    # (3) get data\n",
    "    data=requests.get(url).text\n",
    "    print data\n",
    "\n",
    "if __name__ == \"__main__\":\n",
    "    doIt()"
   ]
  },
  {
   "cell_type": "code",
   "execution_count": 130,
   "metadata": {
    "collapsed": false
   },
   "outputs": [
    {
     "name": "stdout",
     "output_type": "stream",
     "text": [
      "JPEG\n",
      "(2008, 969)\n",
      "RGB\n"
     ]
    }
   ],
   "source": [
    "from PIL import Image\n",
    "\n",
    "im1 = Image.open(\"data/caffe.jpg\")\n",
    "im2 = Image.open(\"data/bar.jpg\")\n",
    "im3 = Image.open(\"data/cinema.jpg\")\n",
    "im4 = Image.open(\"data/traffic.jpg\")\n",
    "print im3.format\n",
    "print im3.size\n",
    "print im3.mode\n",
    "im1.show()\n",
    "im2.show()\n",
    "im3.show()\n",
    "im4.show()"
   ]
  }
 ],
 "metadata": {
  "kernelspec": {
   "display_name": "Python 2",
   "language": "python",
   "name": "python2"
  },
  "language_info": {
   "codemirror_mode": {
    "name": "ipython",
    "version": 2
   },
   "file_extension": ".py",
   "mimetype": "text/x-python",
   "name": "python",
   "nbconvert_exporter": "python",
   "pygments_lexer": "ipython2",
   "version": "2.7.13"
  }
 },
 "nbformat": 4,
 "nbformat_minor": 0
}
